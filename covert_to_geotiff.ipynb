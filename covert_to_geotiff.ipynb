{
 "cells": [
  {
   "cell_type": "code",
   "execution_count": 1,
   "id": "reported-message",
   "metadata": {},
   "outputs": [],
   "source": [
    "# taken from stackexchange:  https://stackoverflow.com/questions/33537599/how-do-i-write-create-a-geotiff-rgb-image-file-in-python\n",
    "\n",
    "from osgeo import gdal\n",
    "from osgeo import osr\n",
    "import numpy as np\n",
    "import os, sys\n",
    "\n",
    "#  Initialize the Image Size\n",
    "image_size = (400,400)\n",
    "\n",
    "#  Choose some Geographic Transform (Around Lake Tahoe)\n",
    "lat = [39,38.5]\n",
    "lon = [-120,-119.5]\n",
    "\n",
    "#  Create Each Channel\n",
    "r_pixels = np.zeros((image_size), dtype=np.uint8)\n",
    "g_pixels = np.zeros((image_size), dtype=np.uint8)\n",
    "b_pixels = np.zeros((image_size), dtype=np.uint8)\n",
    "\n",
    "#  Set the Pixel Data (Create some boxes)\n",
    "for x in range(0,image_size[0]):\n",
    "    for y in range(0,image_size[1]):\n",
    "        if x < image_size[0]/2 and y < image_size[1]/2:\n",
    "            r_pixels[y,x] = 255\n",
    "        elif x >= image_size[0]/2 and y < image_size[1]/2:\n",
    "            g_pixels[y,x] = 255\n",
    "        elif x < image_size[0]/2 and y >= image_size[1]/2:\n",
    "            b_pixels[y,x] = 255\n",
    "        else:\n",
    "            r_pixels[y,x] = 255\n",
    "            g_pixels[y,x] = 255\n",
    "            b_pixels[y,x] = 255\n",
    "\n",
    "# set geotransform\n",
    "nx = image_size[0]\n",
    "ny = image_size[1]\n",
    "xmin, ymin, xmax, ymax = [min(lon), min(lat), max(lon), max(lat)]\n",
    "xres = (xmax - xmin) / float(nx)\n",
    "yres = (ymax - ymin) / float(ny)\n",
    "geotransform = (xmin, xres, 0, ymax, 0, -yres)\n",
    "\n",
    "# create the 3-band raster file\n",
    "dst_ds = gdal.GetDriverByName('GTiff').Create('myGeoTIFF.tif', ny, nx, 3, gdal.GDT_Byte)\n",
    "\n",
    "dst_ds.SetGeoTransform(geotransform)    # specify coords\n",
    "srs = osr.SpatialReference()            # establish encoding\n",
    "srs.ImportFromEPSG(3857)                # WGS84 lat/long\n",
    "dst_ds.SetProjection(srs.ExportToWkt()) # export coords to file\n",
    "dst_ds.GetRasterBand(1).WriteArray(r_pixels)   # write r-band to the raster\n",
    "dst_ds.GetRasterBand(2).WriteArray(g_pixels)   # write g-band to the raster\n",
    "dst_ds.GetRasterBand(3).WriteArray(b_pixels)   # write b-band to the raster\n",
    "dst_ds.FlushCache()                     # write to disk\n",
    "dst_ds = None"
   ]
  },
  {
   "cell_type": "code",
   "execution_count": null,
   "id": "pregnant-indianapolis",
   "metadata": {},
   "outputs": [],
   "source": []
  }
 ],
 "metadata": {
  "kernelspec": {
   "display_name": "Python [conda env:obspy] *",
   "language": "python",
   "name": "conda-env-obspy-py"
  },
  "language_info": {
   "codemirror_mode": {
    "name": "ipython",
    "version": 3
   },
   "file_extension": ".py",
   "mimetype": "text/x-python",
   "name": "python",
   "nbconvert_exporter": "python",
   "pygments_lexer": "ipython3",
   "version": "3.8.6"
  }
 },
 "nbformat": 4,
 "nbformat_minor": 5
}
